{
 "cells": [
  {
   "cell_type": "markdown",
   "id": "bf79b97f",
   "metadata": {},
   "source": [
    "## Telecomunicaciones: CallMeMaybe"
   ]
  },
  {
   "cell_type": "code",
   "execution_count": 1,
   "id": "2fbbdd14",
   "metadata": {},
   "outputs": [],
   "source": [
    "import pandas as pd \n",
    "from matplotlib import pyplot as plt\n",
    "import seaborn as sns\n",
    "from scipy import stats\n"
   ]
  },
  {
   "cell_type": "markdown",
   "id": "40c4ca2a",
   "metadata": {},
   "source": [
    "### 1. Descripción general\n",
    "Objetivo: Identificar operadores ineficaces a través de la cantidad de llamadas entrantes perdidas (internas y externas) y un tiempo de espera prolongado para las llamadas entrantes.\n"
   ]
  },
  {
   "cell_type": "markdown",
   "id": "078afcc9",
   "metadata": {},
   "source": [
    "### 2. Analisis exploratorio de datos\n"
   ]
  },
  {
   "cell_type": "code",
   "execution_count": null,
   "id": "d3f31164",
   "metadata": {},
   "outputs": [],
   "source": [
    "\n",
    "clients = pd.read_csv('telecom_clients_us.csv')\n",
    "telecom_df= pd.read_csv('telecom_dataset_us.csv')"
   ]
  },
  {
   "cell_type": "code",
   "execution_count": 3,
   "id": "93299700",
   "metadata": {},
   "outputs": [
    {
     "name": "stdout",
     "output_type": "stream",
     "text": [
      "<class 'pandas.core.frame.DataFrame'>\n",
      "RangeIndex: 732 entries, 0 to 731\n",
      "Data columns (total 3 columns):\n",
      " #   Column       Non-Null Count  Dtype \n",
      "---  ------       --------------  ----- \n",
      " 0   user_id      732 non-null    int64 \n",
      " 1   tariff_plan  732 non-null    object\n",
      " 2   date_start   732 non-null    object\n",
      "dtypes: int64(1), object(2)\n",
      "memory usage: 17.3+ KB\n"
     ]
    },
    {
     "data": {
      "application/vnd.microsoft.datawrangler.viewer.v0+json": {
       "columns": [
        {
         "name": "index",
         "rawType": "int64",
         "type": "integer"
        },
        {
         "name": "user_id",
         "rawType": "int64",
         "type": "integer"
        },
        {
         "name": "tariff_plan",
         "rawType": "object",
         "type": "string"
        },
        {
         "name": "date_start",
         "rawType": "object",
         "type": "string"
        }
       ],
       "conversionMethod": "pd.DataFrame",
       "ref": "0e4e9d41-efe2-4f5e-ad18-2de31c151c32",
       "rows": [
        [
         "690",
         "167058",
         "B",
         "2019-08-29"
        ],
        [
         "35",
         "166916",
         "A",
         "2019-08-23"
        ],
        [
         "28",
         "167828",
         "A",
         "2019-10-02"
        ],
        [
         "459",
         "167645",
         "C",
         "2019-09-24"
        ],
        [
         "623",
         "167183",
         "B",
         "2019-09-05"
        ]
       ],
       "shape": {
        "columns": 3,
        "rows": 5
       }
      },
      "text/html": [
       "<div>\n",
       "<style scoped>\n",
       "    .dataframe tbody tr th:only-of-type {\n",
       "        vertical-align: middle;\n",
       "    }\n",
       "\n",
       "    .dataframe tbody tr th {\n",
       "        vertical-align: top;\n",
       "    }\n",
       "\n",
       "    .dataframe thead th {\n",
       "        text-align: right;\n",
       "    }\n",
       "</style>\n",
       "<table border=\"1\" class=\"dataframe\">\n",
       "  <thead>\n",
       "    <tr style=\"text-align: right;\">\n",
       "      <th></th>\n",
       "      <th>user_id</th>\n",
       "      <th>tariff_plan</th>\n",
       "      <th>date_start</th>\n",
       "    </tr>\n",
       "  </thead>\n",
       "  <tbody>\n",
       "    <tr>\n",
       "      <th>690</th>\n",
       "      <td>167058</td>\n",
       "      <td>B</td>\n",
       "      <td>2019-08-29</td>\n",
       "    </tr>\n",
       "    <tr>\n",
       "      <th>35</th>\n",
       "      <td>166916</td>\n",
       "      <td>A</td>\n",
       "      <td>2019-08-23</td>\n",
       "    </tr>\n",
       "    <tr>\n",
       "      <th>28</th>\n",
       "      <td>167828</td>\n",
       "      <td>A</td>\n",
       "      <td>2019-10-02</td>\n",
       "    </tr>\n",
       "    <tr>\n",
       "      <th>459</th>\n",
       "      <td>167645</td>\n",
       "      <td>C</td>\n",
       "      <td>2019-09-24</td>\n",
       "    </tr>\n",
       "    <tr>\n",
       "      <th>623</th>\n",
       "      <td>167183</td>\n",
       "      <td>B</td>\n",
       "      <td>2019-09-05</td>\n",
       "    </tr>\n",
       "  </tbody>\n",
       "</table>\n",
       "</div>"
      ],
      "text/plain": [
       "     user_id tariff_plan  date_start\n",
       "690   167058           B  2019-08-29\n",
       "35    166916           A  2019-08-23\n",
       "28    167828           A  2019-10-02\n",
       "459   167645           C  2019-09-24\n",
       "623   167183           B  2019-09-05"
      ]
     },
     "execution_count": 3,
     "metadata": {},
     "output_type": "execute_result"
    }
   ],
   "source": [
    "clients.info()\n",
    "clients.sample(5)"
   ]
  },
  {
   "cell_type": "code",
   "execution_count": 4,
   "id": "685fec38",
   "metadata": {},
   "outputs": [
    {
     "name": "stdout",
     "output_type": "stream",
     "text": [
      "<class 'pandas.core.frame.DataFrame'>\n",
      "RangeIndex: 53902 entries, 0 to 53901\n",
      "Data columns (total 9 columns):\n",
      " #   Column               Non-Null Count  Dtype  \n",
      "---  ------               --------------  -----  \n",
      " 0   user_id              53902 non-null  int64  \n",
      " 1   date                 53902 non-null  object \n",
      " 2   direction            53902 non-null  object \n",
      " 3   internal             53785 non-null  object \n",
      " 4   operator_id          45730 non-null  float64\n",
      " 5   is_missed_call       53902 non-null  bool   \n",
      " 6   calls_count          53902 non-null  int64  \n",
      " 7   call_duration        53902 non-null  int64  \n",
      " 8   total_call_duration  53902 non-null  int64  \n",
      "dtypes: bool(1), float64(1), int64(4), object(3)\n",
      "memory usage: 3.3+ MB\n"
     ]
    },
    {
     "data": {
      "application/vnd.microsoft.datawrangler.viewer.v0+json": {
       "columns": [
        {
         "name": "index",
         "rawType": "int64",
         "type": "integer"
        },
        {
         "name": "user_id",
         "rawType": "int64",
         "type": "integer"
        },
        {
         "name": "date",
         "rawType": "object",
         "type": "string"
        },
        {
         "name": "direction",
         "rawType": "object",
         "type": "string"
        },
        {
         "name": "internal",
         "rawType": "object",
         "type": "unknown"
        },
        {
         "name": "operator_id",
         "rawType": "float64",
         "type": "float"
        },
        {
         "name": "is_missed_call",
         "rawType": "bool",
         "type": "boolean"
        },
        {
         "name": "calls_count",
         "rawType": "int64",
         "type": "integer"
        },
        {
         "name": "call_duration",
         "rawType": "int64",
         "type": "integer"
        },
        {
         "name": "total_call_duration",
         "rawType": "int64",
         "type": "integer"
        }
       ],
       "conversionMethod": "pd.DataFrame",
       "ref": "d1dec6c3-bf2b-4ba3-810d-32656e12a627",
       "rows": [
        [
         "26727",
         "167150",
         "2019-11-25 00:00:00+03:00",
         "out",
         "True",
         "905538.0",
         "False",
         "1",
         "1",
         "36"
        ],
        [
         "35930",
         "167551",
         "2019-09-29 00:00:00+03:00",
         "in",
         "False",
         "919214.0",
         "False",
         "1",
         "575",
         "602"
        ],
        [
         "50705",
         "168252",
         "2019-11-21 00:00:00+03:00",
         "out",
         "False",
         "940624.0",
         "True",
         "19",
         "0",
         "589"
        ],
        [
         "22380",
         "167059",
         "2019-11-26 00:00:00+03:00",
         "in",
         "False",
         "911136.0",
         "False",
         "9",
         "1114",
         "1287"
        ],
        [
         "47685",
         "168187",
         "2019-10-28 00:00:00+03:00",
         "in",
         "False",
         "937888.0",
         "False",
         "9",
         "512",
         "587"
        ]
       ],
       "shape": {
        "columns": 9,
        "rows": 5
       }
      },
      "text/html": [
       "<div>\n",
       "<style scoped>\n",
       "    .dataframe tbody tr th:only-of-type {\n",
       "        vertical-align: middle;\n",
       "    }\n",
       "\n",
       "    .dataframe tbody tr th {\n",
       "        vertical-align: top;\n",
       "    }\n",
       "\n",
       "    .dataframe thead th {\n",
       "        text-align: right;\n",
       "    }\n",
       "</style>\n",
       "<table border=\"1\" class=\"dataframe\">\n",
       "  <thead>\n",
       "    <tr style=\"text-align: right;\">\n",
       "      <th></th>\n",
       "      <th>user_id</th>\n",
       "      <th>date</th>\n",
       "      <th>direction</th>\n",
       "      <th>internal</th>\n",
       "      <th>operator_id</th>\n",
       "      <th>is_missed_call</th>\n",
       "      <th>calls_count</th>\n",
       "      <th>call_duration</th>\n",
       "      <th>total_call_duration</th>\n",
       "    </tr>\n",
       "  </thead>\n",
       "  <tbody>\n",
       "    <tr>\n",
       "      <th>26727</th>\n",
       "      <td>167150</td>\n",
       "      <td>2019-11-25 00:00:00+03:00</td>\n",
       "      <td>out</td>\n",
       "      <td>True</td>\n",
       "      <td>905538.0</td>\n",
       "      <td>False</td>\n",
       "      <td>1</td>\n",
       "      <td>1</td>\n",
       "      <td>36</td>\n",
       "    </tr>\n",
       "    <tr>\n",
       "      <th>35930</th>\n",
       "      <td>167551</td>\n",
       "      <td>2019-09-29 00:00:00+03:00</td>\n",
       "      <td>in</td>\n",
       "      <td>False</td>\n",
       "      <td>919214.0</td>\n",
       "      <td>False</td>\n",
       "      <td>1</td>\n",
       "      <td>575</td>\n",
       "      <td>602</td>\n",
       "    </tr>\n",
       "    <tr>\n",
       "      <th>50705</th>\n",
       "      <td>168252</td>\n",
       "      <td>2019-11-21 00:00:00+03:00</td>\n",
       "      <td>out</td>\n",
       "      <td>False</td>\n",
       "      <td>940624.0</td>\n",
       "      <td>True</td>\n",
       "      <td>19</td>\n",
       "      <td>0</td>\n",
       "      <td>589</td>\n",
       "    </tr>\n",
       "    <tr>\n",
       "      <th>22380</th>\n",
       "      <td>167059</td>\n",
       "      <td>2019-11-26 00:00:00+03:00</td>\n",
       "      <td>in</td>\n",
       "      <td>False</td>\n",
       "      <td>911136.0</td>\n",
       "      <td>False</td>\n",
       "      <td>9</td>\n",
       "      <td>1114</td>\n",
       "      <td>1287</td>\n",
       "    </tr>\n",
       "    <tr>\n",
       "      <th>47685</th>\n",
       "      <td>168187</td>\n",
       "      <td>2019-10-28 00:00:00+03:00</td>\n",
       "      <td>in</td>\n",
       "      <td>False</td>\n",
       "      <td>937888.0</td>\n",
       "      <td>False</td>\n",
       "      <td>9</td>\n",
       "      <td>512</td>\n",
       "      <td>587</td>\n",
       "    </tr>\n",
       "  </tbody>\n",
       "</table>\n",
       "</div>"
      ],
      "text/plain": [
       "       user_id                       date direction internal  operator_id  \\\n",
       "26727   167150  2019-11-25 00:00:00+03:00       out     True     905538.0   \n",
       "35930   167551  2019-09-29 00:00:00+03:00        in    False     919214.0   \n",
       "50705   168252  2019-11-21 00:00:00+03:00       out    False     940624.0   \n",
       "22380   167059  2019-11-26 00:00:00+03:00        in    False     911136.0   \n",
       "47685   168187  2019-10-28 00:00:00+03:00        in    False     937888.0   \n",
       "\n",
       "       is_missed_call  calls_count  call_duration  total_call_duration  \n",
       "26727           False            1              1                   36  \n",
       "35930           False            1            575                  602  \n",
       "50705            True           19              0                  589  \n",
       "22380           False            9           1114                 1287  \n",
       "47685           False            9            512                  587  "
      ]
     },
     "execution_count": 4,
     "metadata": {},
     "output_type": "execute_result"
    }
   ],
   "source": [
    "telecom_df.info()\n",
    "telecom_df.sample(5)"
   ]
  },
  {
   "cell_type": "markdown",
   "id": "8c81e02f",
   "metadata": {},
   "source": [
    "### 3. Preprocesamiento de datos\n",
    "\n"
   ]
  },
  {
   "cell_type": "code",
   "execution_count": 5,
   "id": "bb39f2c3",
   "metadata": {},
   "outputs": [
    {
     "name": "stdout",
     "output_type": "stream",
     "text": [
      "0\n",
      "4900\n"
     ]
    }
   ],
   "source": [
    "#verificamos duplicados\n",
    "print(clients.duplicated().sum())\n",
    "print(telecom_df.duplicated().sum())\n"
   ]
  },
  {
   "cell_type": "code",
   "execution_count": 6,
   "id": "a821fd50",
   "metadata": {},
   "outputs": [
    {
     "name": "stdout",
     "output_type": "stream",
     "text": [
      "user_id        0\n",
      "tariff_plan    0\n",
      "date_start     0\n",
      "dtype: int64\n",
      "user_id                   0\n",
      "date                      0\n",
      "direction                 0\n",
      "internal                117\n",
      "operator_id            8172\n",
      "is_missed_call            0\n",
      "calls_count               0\n",
      "call_duration             0\n",
      "total_call_duration       0\n",
      "dtype: int64\n"
     ]
    }
   ],
   "source": [
    "#verificamos valores nulos\n",
    "print(clients.isna().sum())\n",
    "print(telecom_df.isna().sum())"
   ]
  },
  {
   "cell_type": "code",
   "execution_count": 7,
   "id": "89d92186",
   "metadata": {},
   "outputs": [],
   "source": [
    "# Convertir fecha a datetime\n",
    "telecom_df['date'] = pd.to_datetime(telecom_df['date'])\n",
    "\n",
    "# Quitar duplicados \n",
    "telecom_df = telecom_df.drop_duplicates(subset=['date', 'operator_id', 'direction', 'call_duration'])\n",
    "\n",
    "# Eliminar ausentes relevantes\n",
    "telecom_df = telecom_df.dropna(subset=['operator_id', 'calls_count', 'is_missed_call', 'call_duration', 'direction'])"
   ]
  },
  {
   "cell_type": "code",
   "execution_count": 8,
   "id": "c757a6c8",
   "metadata": {},
   "outputs": [
    {
     "data": {
      "application/vnd.microsoft.datawrangler.viewer.v0+json": {
       "columns": [
        {
         "name": "index",
         "rawType": "int64",
         "type": "integer"
        },
        {
         "name": "user_id",
         "rawType": "int64",
         "type": "integer"
        },
        {
         "name": "date",
         "rawType": "datetime64[ns, UTC+03:00]",
         "type": "unknown"
        },
        {
         "name": "direction",
         "rawType": "object",
         "type": "string"
        },
        {
         "name": "internal",
         "rawType": "object",
         "type": "unknown"
        },
        {
         "name": "operator_id",
         "rawType": "float64",
         "type": "float"
        },
        {
         "name": "is_missed_call",
         "rawType": "bool",
         "type": "boolean"
        },
        {
         "name": "calls_count",
         "rawType": "int64",
         "type": "integer"
        },
        {
         "name": "call_duration",
         "rawType": "int64",
         "type": "integer"
        },
        {
         "name": "total_call_duration",
         "rawType": "int64",
         "type": "integer"
        }
       ],
       "conversionMethod": "pd.DataFrame",
       "ref": "174407b3-04d8-4669-b03e-a1d9468174b0",
       "rows": [
        [
         "18838",
         "166983",
         "2019-09-20 00:00:00+03:00",
         "out",
         "False",
         "901880.0",
         "True",
         "10",
         "0",
         "371"
        ],
        [
         "25795",
         "167150",
         "2019-09-19 00:00:00+03:00",
         "out",
         "False",
         "905538.0",
         "False",
         "26",
         "1654",
         "2087"
        ],
        [
         "36839",
         "167626",
         "2019-10-03 00:00:00+03:00",
         "out",
         "False",
         "919372.0",
         "True",
         "138",
         "0",
         "3426"
        ],
        [
         "8156",
         "166658",
         "2019-09-01 00:00:00+03:00",
         "out",
         "False",
         "890404.0",
         "True",
         "1",
         "0",
         "37"
        ],
        [
         "20376",
         "167002",
         "2019-10-29 00:00:00+03:00",
         "out",
         "False",
         "900492.0",
         "True",
         "4",
         "0",
         "115"
        ]
       ],
       "shape": {
        "columns": 9,
        "rows": 5
       }
      },
      "text/html": [
       "<div>\n",
       "<style scoped>\n",
       "    .dataframe tbody tr th:only-of-type {\n",
       "        vertical-align: middle;\n",
       "    }\n",
       "\n",
       "    .dataframe tbody tr th {\n",
       "        vertical-align: top;\n",
       "    }\n",
       "\n",
       "    .dataframe thead th {\n",
       "        text-align: right;\n",
       "    }\n",
       "</style>\n",
       "<table border=\"1\" class=\"dataframe\">\n",
       "  <thead>\n",
       "    <tr style=\"text-align: right;\">\n",
       "      <th></th>\n",
       "      <th>user_id</th>\n",
       "      <th>date</th>\n",
       "      <th>direction</th>\n",
       "      <th>internal</th>\n",
       "      <th>operator_id</th>\n",
       "      <th>is_missed_call</th>\n",
       "      <th>calls_count</th>\n",
       "      <th>call_duration</th>\n",
       "      <th>total_call_duration</th>\n",
       "    </tr>\n",
       "  </thead>\n",
       "  <tbody>\n",
       "    <tr>\n",
       "      <th>18838</th>\n",
       "      <td>166983</td>\n",
       "      <td>2019-09-20 00:00:00+03:00</td>\n",
       "      <td>out</td>\n",
       "      <td>False</td>\n",
       "      <td>901880.0</td>\n",
       "      <td>True</td>\n",
       "      <td>10</td>\n",
       "      <td>0</td>\n",
       "      <td>371</td>\n",
       "    </tr>\n",
       "    <tr>\n",
       "      <th>25795</th>\n",
       "      <td>167150</td>\n",
       "      <td>2019-09-19 00:00:00+03:00</td>\n",
       "      <td>out</td>\n",
       "      <td>False</td>\n",
       "      <td>905538.0</td>\n",
       "      <td>False</td>\n",
       "      <td>26</td>\n",
       "      <td>1654</td>\n",
       "      <td>2087</td>\n",
       "    </tr>\n",
       "    <tr>\n",
       "      <th>36839</th>\n",
       "      <td>167626</td>\n",
       "      <td>2019-10-03 00:00:00+03:00</td>\n",
       "      <td>out</td>\n",
       "      <td>False</td>\n",
       "      <td>919372.0</td>\n",
       "      <td>True</td>\n",
       "      <td>138</td>\n",
       "      <td>0</td>\n",
       "      <td>3426</td>\n",
       "    </tr>\n",
       "    <tr>\n",
       "      <th>8156</th>\n",
       "      <td>166658</td>\n",
       "      <td>2019-09-01 00:00:00+03:00</td>\n",
       "      <td>out</td>\n",
       "      <td>False</td>\n",
       "      <td>890404.0</td>\n",
       "      <td>True</td>\n",
       "      <td>1</td>\n",
       "      <td>0</td>\n",
       "      <td>37</td>\n",
       "    </tr>\n",
       "    <tr>\n",
       "      <th>20376</th>\n",
       "      <td>167002</td>\n",
       "      <td>2019-10-29 00:00:00+03:00</td>\n",
       "      <td>out</td>\n",
       "      <td>False</td>\n",
       "      <td>900492.0</td>\n",
       "      <td>True</td>\n",
       "      <td>4</td>\n",
       "      <td>0</td>\n",
       "      <td>115</td>\n",
       "    </tr>\n",
       "  </tbody>\n",
       "</table>\n",
       "</div>"
      ],
      "text/plain": [
       "       user_id                      date direction internal  operator_id  \\\n",
       "18838   166983 2019-09-20 00:00:00+03:00       out    False     901880.0   \n",
       "25795   167150 2019-09-19 00:00:00+03:00       out    False     905538.0   \n",
       "36839   167626 2019-10-03 00:00:00+03:00       out    False     919372.0   \n",
       "8156    166658 2019-09-01 00:00:00+03:00       out    False     890404.0   \n",
       "20376   167002 2019-10-29 00:00:00+03:00       out    False     900492.0   \n",
       "\n",
       "       is_missed_call  calls_count  call_duration  total_call_duration  \n",
       "18838            True           10              0                  371  \n",
       "25795           False           26           1654                 2087  \n",
       "36839            True          138              0                 3426  \n",
       "8156             True            1              0                   37  \n",
       "20376            True            4              0                  115  "
      ]
     },
     "execution_count": 8,
     "metadata": {},
     "output_type": "execute_result"
    }
   ],
   "source": [
    "telecom_df.sample(5)"
   ]
  },
  {
   "cell_type": "markdown",
   "id": "f52ea22d",
   "metadata": {},
   "source": [
    "### 4. Análisis de los datos"
   ]
  },
  {
   "cell_type": "code",
   "execution_count": 9,
   "id": "46d7bc6d",
   "metadata": {},
   "outputs": [
    {
     "name": "stdout",
     "output_type": "stream",
     "text": [
      "             total_calls  missed_calls  missed_call_rate  avg_call_duration  \\\n",
      "operator_id                                                                   \n",
      "879896.0             881            40              0.36             580.56   \n",
      "879898.0            7099            80              0.37            1180.69   \n",
      "880020.0              35             4              0.22             124.72   \n",
      "880022.0             186            24              0.37             233.03   \n",
      "880026.0            2195            77              0.45             891.43   \n",
      "...                  ...           ...               ...                ...   \n",
      "972410.0              77             2              0.50             944.25   \n",
      "972412.0              61             2              0.40             699.60   \n",
      "972460.0              49             2              0.33             203.00   \n",
      "973120.0               3             1              0.50               2.50   \n",
      "973286.0               2             0              0.00              17.00   \n",
      "\n",
      "             avg_total_duration  \n",
      "operator_id                      \n",
      "879896.0                 685.62  \n",
      "879898.0                1637.78  \n",
      "880020.0                 137.33  \n",
      "880022.0                 288.18  \n",
      "880026.0                1017.03  \n",
      "...                         ...  \n",
      "972410.0                1318.75  \n",
      "972412.0                 909.60  \n",
      "972460.0                 302.83  \n",
      "973120.0                  12.50  \n",
      "973286.0                 105.00  \n",
      "\n",
      "[1092 rows x 5 columns]\n"
     ]
    }
   ],
   "source": [
    "# Filtrar llamadas con operador asignado\n",
    "calls_with_operator = telecom_df[telecom_df['operator_id'].notnull()]\n",
    "\n",
    "# Calcular métricas generales por operador\n",
    "basic_metrics = calls_with_operator.groupby('operator_id').agg(\n",
    "    total_calls=('calls_count', 'sum'),\n",
    "    missed_calls=('is_missed_call', 'sum'),\n",
    "    missed_call_rate=('is_missed_call', 'mean'),\n",
    "    avg_call_duration=('call_duration', 'mean'),\n",
    "    avg_total_duration=('total_call_duration', 'mean'))\n",
    "\n",
    "# Redondear los resultados a dos decimales\n",
    "basic_metrics = basic_metrics.round({\n",
    "    'missed_call_rate': 2,\n",
    "    'avg_call_duration': 2,\n",
    "    'avg_total_duration': 2\n",
    "})\n",
    "\n",
    "# Ver los resultados\n",
    "print(basic_metrics)\n"
   ]
  },
  {
   "cell_type": "code",
   "execution_count": 10,
   "id": "b8991cd3",
   "metadata": {},
   "outputs": [
    {
     "data": {
      "application/vnd.microsoft.datawrangler.viewer.v0+json": {
       "columns": [
        {
         "name": "operator_id",
         "rawType": "float64",
         "type": "float"
        },
        {
         "name": "total_calls",
         "rawType": "int64",
         "type": "integer"
        },
        {
         "name": "missed_calls",
         "rawType": "int64",
         "type": "integer"
        },
        {
         "name": "missed_call_rate",
         "rawType": "float64",
         "type": "float"
        },
        {
         "name": "avg_call_duration",
         "rawType": "float64",
         "type": "float"
        },
        {
         "name": "avg_total_duration",
         "rawType": "float64",
         "type": "float"
        },
        {
         "name": "total_outgoing_calls",
         "rawType": "float64",
         "type": "float"
        }
       ],
       "conversionMethod": "pd.DataFrame",
       "ref": "5607c289-10eb-45db-8696-24beaaf16e0b",
       "rows": [
        [
         "952126.0",
         "7",
         "0",
         "0.0",
         "63.4",
         "83.6",
         "0.0"
        ],
        [
         "886892.0",
         "2",
         "0",
         "0.0",
         "72.0",
         "130.0",
         "0.0"
        ],
        [
         "896012.0",
         "244",
         "1",
         "0.02",
         "487.11",
         "510.84",
         "0.0"
        ],
        [
         "937772.0",
         "1",
         "1",
         "1.0",
         "0.0",
         "18.0",
         "1.0"
        ],
        [
         "945288.0",
         "2209",
         "18",
         "0.5",
         "4940.39",
         "6072.89",
         "2209.0"
        ]
       ],
       "shape": {
        "columns": 6,
        "rows": 5
       }
      },
      "text/html": [
       "<div>\n",
       "<style scoped>\n",
       "    .dataframe tbody tr th:only-of-type {\n",
       "        vertical-align: middle;\n",
       "    }\n",
       "\n",
       "    .dataframe tbody tr th {\n",
       "        vertical-align: top;\n",
       "    }\n",
       "\n",
       "    .dataframe thead th {\n",
       "        text-align: right;\n",
       "    }\n",
       "</style>\n",
       "<table border=\"1\" class=\"dataframe\">\n",
       "  <thead>\n",
       "    <tr style=\"text-align: right;\">\n",
       "      <th></th>\n",
       "      <th>total_calls</th>\n",
       "      <th>missed_calls</th>\n",
       "      <th>missed_call_rate</th>\n",
       "      <th>avg_call_duration</th>\n",
       "      <th>avg_total_duration</th>\n",
       "      <th>total_outgoing_calls</th>\n",
       "    </tr>\n",
       "    <tr>\n",
       "      <th>operator_id</th>\n",
       "      <th></th>\n",
       "      <th></th>\n",
       "      <th></th>\n",
       "      <th></th>\n",
       "      <th></th>\n",
       "      <th></th>\n",
       "    </tr>\n",
       "  </thead>\n",
       "  <tbody>\n",
       "    <tr>\n",
       "      <th>952126.0</th>\n",
       "      <td>7</td>\n",
       "      <td>0</td>\n",
       "      <td>0.00</td>\n",
       "      <td>63.40</td>\n",
       "      <td>83.60</td>\n",
       "      <td>0.0</td>\n",
       "    </tr>\n",
       "    <tr>\n",
       "      <th>886892.0</th>\n",
       "      <td>2</td>\n",
       "      <td>0</td>\n",
       "      <td>0.00</td>\n",
       "      <td>72.00</td>\n",
       "      <td>130.00</td>\n",
       "      <td>0.0</td>\n",
       "    </tr>\n",
       "    <tr>\n",
       "      <th>896012.0</th>\n",
       "      <td>244</td>\n",
       "      <td>1</td>\n",
       "      <td>0.02</td>\n",
       "      <td>487.11</td>\n",
       "      <td>510.84</td>\n",
       "      <td>0.0</td>\n",
       "    </tr>\n",
       "    <tr>\n",
       "      <th>937772.0</th>\n",
       "      <td>1</td>\n",
       "      <td>1</td>\n",
       "      <td>1.00</td>\n",
       "      <td>0.00</td>\n",
       "      <td>18.00</td>\n",
       "      <td>1.0</td>\n",
       "    </tr>\n",
       "    <tr>\n",
       "      <th>945288.0</th>\n",
       "      <td>2209</td>\n",
       "      <td>18</td>\n",
       "      <td>0.50</td>\n",
       "      <td>4940.39</td>\n",
       "      <td>6072.89</td>\n",
       "      <td>2209.0</td>\n",
       "    </tr>\n",
       "  </tbody>\n",
       "</table>\n",
       "</div>"
      ],
      "text/plain": [
       "             total_calls  missed_calls  missed_call_rate  avg_call_duration  \\\n",
       "operator_id                                                                   \n",
       "952126.0               7             0              0.00              63.40   \n",
       "886892.0               2             0              0.00              72.00   \n",
       "896012.0             244             1              0.02             487.11   \n",
       "937772.0               1             1              1.00               0.00   \n",
       "945288.0            2209            18              0.50            4940.39   \n",
       "\n",
       "             avg_total_duration  total_outgoing_calls  \n",
       "operator_id                                            \n",
       "952126.0                  83.60                   0.0  \n",
       "886892.0                 130.00                   0.0  \n",
       "896012.0                 510.84                   0.0  \n",
       "937772.0                  18.00                   1.0  \n",
       "945288.0                6072.89                2209.0  "
      ]
     },
     "execution_count": 10,
     "metadata": {},
     "output_type": "execute_result"
    }
   ],
   "source": [
    "# Filtrar solo llamadas salientes con operador\n",
    "outgoing_calls = telecom_df[(telecom_df['direction'] == 'out') & (telecom_df['operator_id'].notnull())]\n",
    "outgoing_by_operator = outgoing_calls.groupby('operator_id')['calls_count'].sum()\n",
    "\n",
    "# Agregar total de llamadas salientes al dataframe\n",
    "basic_metrics['total_outgoing_calls'] = outgoing_by_operator\n",
    "basic_metrics['total_outgoing_calls'] = basic_metrics['total_outgoing_calls'].fillna(0)\n",
    "\n",
    "basic_metrics.sample(5)"
   ]
  },
  {
   "cell_type": "code",
   "execution_count": 11,
   "id": "97a97c02",
   "metadata": {},
   "outputs": [],
   "source": [
    "# Definir umbrales para considerar ineficacia\n",
    "missed_threshold = basic_metrics['missed_call_rate'].quantile(0.75)\n",
    "duration_threshold = basic_metrics['avg_call_duration'].quantile(0.75)\n",
    "outgoing_threshold = basic_metrics['total_outgoing_calls'].quantile(0.25)\n",
    "\n",
    "# Filtrar operadores con al menos 30 llamadas gestionadas\n",
    "basic_metrics = basic_metrics[basic_metrics['total_calls'] >= 30]\n",
    "\n",
    "# Identificar operadores que cumplen al menos 2 de los 3 criterios\n",
    "basic_metrics['ineffective'] = (\n",
    "    (basic_metrics['missed_call_rate'] > missed_threshold).astype(int) +\n",
    "    (basic_metrics['avg_call_duration'] > duration_threshold).astype(int) +\n",
    "    (basic_metrics['total_outgoing_calls'] < outgoing_threshold).astype(int)\n",
    ") >= 2\n",
    "\n",
    "# Filtrar operadores ineficaces\n",
    "ineffective_operators = basic_metrics[basic_metrics['ineffective']== True]\n",
    "\n",
    "\n"
   ]
  },
  {
   "cell_type": "code",
   "execution_count": 12,
   "id": "4b37fa22",
   "metadata": {},
   "outputs": [
    {
     "data": {
      "image/png": "[encoded data removed]",
      "text/plain": [
       "<Figure size 1200x600 with 1 Axes>"
      ]
     },
     "metadata": {},
     "output_type": "display_data"
    }
   ],
   "source": [
    "# Seleccionar los 10 operadores más ineficaces por tasa de llamadas perdidas\n",
    "top_ineffective = ineffective_operators.sort_values(by='missed_call_rate', ascending=False).head(10)\n",
    "\n",
    "plt.figure(figsize=(12, 6))\n",
    "sns.barplot(\n",
    "    x=top_ineffective.index.astype(int),  \n",
    "    y=top_ineffective['missed_call_rate'],\n",
    "    palette=\"Reds_d\", hue=0.6, saturation=0.8, alpha=0.9\n",
    ")\n",
    "\n",
    "\n",
    "plt.title(\"Top 10 Operadores más ineficaces por tasa de llamadas perdidas\")\n",
    "plt.xlabel(\"ID de Operador\")\n",
    "plt.ylabel(\"Tasa de Llamadas Perdidas\")\n",
    "plt.xticks(rotation=45)\n",
    "plt.tight_layout()\n",
    "plt.show()\n"
   ]
  },
  {
   "cell_type": "code",
   "execution_count": 13,
   "id": "075f006d",
   "metadata": {},
   "outputs": [
    {
     "data": {
      "image/png": "[encoded data removed]",
      "text/plain": [
       "<Figure size 1200x600 with 1 Axes>"
      ]
     },
     "metadata": {},
     "output_type": "display_data"
    }
   ],
   "source": [
    "# Seleccionar los 10 operadores más ineficaces por promedio de duración de llamadas\n",
    "top_ineffective = ineffective_operators.sort_values(by='avg_call_duration', ascending=False).head(10)\n",
    "\n",
    "plt.figure(figsize=(12, 6))\n",
    "sns.barplot(\n",
    "    x=top_ineffective.index.astype(int),  \n",
    "    y=top_ineffective['avg_call_duration'],\n",
    "    palette=\"viridis\", hue=0.6, saturation=0.8, alpha=0.9\n",
    ")\n",
    "\n",
    "\n",
    "plt.title(\"Top 10 Operadores más ineficaces por promedio de duración de llamadas\")\n",
    "plt.xlabel(\"ID de Operador\")\n",
    "plt.ylabel(\"Promedio de Duración de Llamadas\")\n",
    "plt.xticks(rotation=45)\n",
    "plt.tight_layout()\n",
    "plt.show()"
   ]
  },
  {
   "cell_type": "markdown",
   "id": "cd4ae1c1",
   "metadata": {},
   "source": [
    "Observaciones: Compararemos la duracion promedio de las llamadas entre los operadores ineficaces y los demás operadores. Usaremos una prueba t de Student para ver si hay una diferencia significativa."
   ]
  },
  {
   "cell_type": "code",
   "execution_count": 14,
   "id": "8ee34e89",
   "metadata": {},
   "outputs": [
    {
     "name": "stdout",
     "output_type": "stream",
     "text": [
      "Estadístico t: 13.127414610241878, Valor p: 8.856057321305416e-27\n",
      "Rechazamos la hipótesis nula de que las duraciones promedio de las llamadas de ambos grupos son iguales.\n"
     ]
    }
   ],
   "source": [
    "# Separar los operadores ineficaces y los demás operadores según la duración promedio de las llamadas\n",
    "ineffective_operators_duration = basic_metrics[basic_metrics['ineffective'] == True]['avg_call_duration']\n",
    "other_operators_duration = basic_metrics[basic_metrics['ineffective'] == False]['avg_call_duration']\n",
    "\n",
    "# Realizar la prueba t de Student para comparar las medias de ambos grupos\n",
    "t_stat, p_value = stats.ttest_ind(ineffective_operators_duration, other_operators_duration, equal_var=False)  \n",
    "\n",
    "print(f\"Estadístico t: {t_stat}, Valor p: {p_value}\")\n",
    "\n",
    "if p_value < 0.05:\n",
    "    print(\"Rechazamos la hipótesis nula de que las duraciones promedio de las llamadas de ambos grupos son iguales.\")\n",
    "else:\n",
    "    print(\"No rechazamos la hipótesis nula de que las duraciones promedio de las llamadas de ambos grupos son iguales.\")\n"
   ]
  },
  {
   "cell_type": "markdown",
   "id": "321eb22c",
   "metadata": {},
   "source": [
    "Observaciones: El valor p extremadamente bajo (8.86e-27) indica que hay una diferencia altamente significativa entre las duraciones promedio de las llamadas de los operadores ineficaces y los demás operadores.\n",
    "Esto sugiere que la duración de las llamadas podría ser un factor importante al evaluar la eficacia de los operadores."
   ]
  },
  {
   "cell_type": "markdown",
   "id": "dd398f00",
   "metadata": {},
   "source": [
    "### 5. Conclusiones Generales\n",
    "\n",
    "Los operadores clasificados como ineficaces presentan una duración promedio de llamadas significativamente distinta a la de los demás operadores, según la prueba t de Student (p < 0.05).\n",
    "\n",
    "La diferencia en duración sugiere patrones operativos diferenciados, que podrían estar relacionados con la eficiencia en la gestión de llamadas, el tipo de llamadas atendidas o la calidad del servicio ofrecido.\n",
    "\n",
    "Todos los operadores identificados como ineficaces muestran altos valores de duración total y duración promedio de llamadas, lo que podría indicar ineficiencia operativa o casos de mal uso del tiempo de atención.\n",
    "\n",
    "Se recomienda investigar las causas subyacentes de las largas duraciones en los operadores ineficaces, como falta de capacitación, problemas técnicos o procedimientos mal definidos"
   ]
  },
  {
   "cell_type": "markdown",
   "id": "25af456e",
   "metadata": {},
   "source": [
    "Link para visualizar el Dashboard: \n",
    "https://public.tableau.com/shared/5DJYPHMT4?:display_count=n&:origin=viz_share_link\n",
    "\n",
    "Link para visualizar la presentacion: \n",
    "https://drive.google.com/file/d/1gl7DvDU3_eK7ZHdhCcuk0iRXWyDlRXJB/view?usp=sharing\n"
   ]
  }
 ],
 "metadata": {
  "kernelspec": {
   "display_name": "Python 3",
   "language": "python",
   "name": "python3"
  },
  "language_info": {
   "codemirror_mode": {
    "name": "ipython",
    "version": 3
   },
   "file_extension": ".py",
   "mimetype": "text/x-python",
   "name": "python",
   "nbconvert_exporter": "python",
   "pygments_lexer": "ipython3",
   "version": "3.11.4"
  }
 },
 "nbformat": 4,
 "nbformat_minor": 5
}
